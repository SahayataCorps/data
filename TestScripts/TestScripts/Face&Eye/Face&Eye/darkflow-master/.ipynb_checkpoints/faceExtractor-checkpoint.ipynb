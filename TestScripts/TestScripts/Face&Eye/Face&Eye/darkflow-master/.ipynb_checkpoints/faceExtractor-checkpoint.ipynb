{
 "cells": [
  {
   "cell_type": "code",
   "execution_count": 1,
   "metadata": {},
   "outputs": [
    {
     "name": "stderr",
     "output_type": "stream",
     "text": [
      "c:\\users\\hp\\anaconda3\\lib\\site-packages\\tensorflow\\python\\framework\\dtypes.py:519: FutureWarning: Passing (type, 1) or '1type' as a synonym of type is deprecated; in a future version of numpy, it will be understood as (type, (1,)) / '(1,)type'.\n",
      "  _np_qint8 = np.dtype([(\"qint8\", np.int8, 1)])\n",
      "c:\\users\\hp\\anaconda3\\lib\\site-packages\\tensorflow\\python\\framework\\dtypes.py:520: FutureWarning: Passing (type, 1) or '1type' as a synonym of type is deprecated; in a future version of numpy, it will be understood as (type, (1,)) / '(1,)type'.\n",
      "  _np_quint8 = np.dtype([(\"quint8\", np.uint8, 1)])\n",
      "c:\\users\\hp\\anaconda3\\lib\\site-packages\\tensorflow\\python\\framework\\dtypes.py:521: FutureWarning: Passing (type, 1) or '1type' as a synonym of type is deprecated; in a future version of numpy, it will be understood as (type, (1,)) / '(1,)type'.\n",
      "  _np_qint16 = np.dtype([(\"qint16\", np.int16, 1)])\n",
      "c:\\users\\hp\\anaconda3\\lib\\site-packages\\tensorflow\\python\\framework\\dtypes.py:522: FutureWarning: Passing (type, 1) or '1type' as a synonym of type is deprecated; in a future version of numpy, it will be understood as (type, (1,)) / '(1,)type'.\n",
      "  _np_quint16 = np.dtype([(\"quint16\", np.uint16, 1)])\n",
      "c:\\users\\hp\\anaconda3\\lib\\site-packages\\tensorflow\\python\\framework\\dtypes.py:523: FutureWarning: Passing (type, 1) or '1type' as a synonym of type is deprecated; in a future version of numpy, it will be understood as (type, (1,)) / '(1,)type'.\n",
      "  _np_qint32 = np.dtype([(\"qint32\", np.int32, 1)])\n",
      "c:\\users\\hp\\anaconda3\\lib\\site-packages\\tensorflow\\python\\framework\\dtypes.py:528: FutureWarning: Passing (type, 1) or '1type' as a synonym of type is deprecated; in a future version of numpy, it will be understood as (type, (1,)) / '(1,)type'.\n",
      "  np_resource = np.dtype([(\"resource\", np.ubyte, 1)])\n",
      "c:\\users\\hp\\anaconda3\\lib\\site-packages\\dask\\dataframe\\utils.py:14: FutureWarning: pandas.util.testing is deprecated. Use the functions in the public API at pandas.testing instead.\n",
      "  import pandas.util.testing as tm\n"
     ]
    }
   ],
   "source": [
    "import imutils\n",
    "import dlib\n",
    "import pandas as pd\n",
    "import cv2\n",
    "from darkflow.net.build import TFNet\n",
    "import os\n",
    "from os import listdir\n",
    "from os.path import isfile, join\n"
   ]
  },
  {
   "cell_type": "code",
   "execution_count": 2,
   "metadata": {},
   "outputs": [
    {
     "name": "stdout",
     "output_type": "stream",
     "text": [
      "Parsing cfg/face_detection_tiny-yolo-voc-1c.cfg\n",
      "Loading None ...\n",
      "Finished in 0.0009965896606445312s\n",
      "\n",
      "Building net ...\n",
      "Source | Train? | Layer description                | Output size\n",
      "-------+--------+----------------------------------+---------------\n",
      "       |        | input                            | (?, 416, 416, 3)\n",
      " Init  |  Yep!  | conv 3x3p1_1  +bnorm  leaky      | (?, 416, 416, 16)\n",
      " Load  |  Yep!  | maxp 2x2p0_2                     | (?, 208, 208, 16)\n",
      " Init  |  Yep!  | conv 3x3p1_1  +bnorm  leaky      | (?, 208, 208, 32)\n",
      " Load  |  Yep!  | maxp 2x2p0_2                     | (?, 104, 104, 32)\n",
      " Init  |  Yep!  | conv 3x3p1_1  +bnorm  leaky      | (?, 104, 104, 64)\n",
      " Load  |  Yep!  | maxp 2x2p0_2                     | (?, 52, 52, 64)\n",
      " Init  |  Yep!  | conv 3x3p1_1  +bnorm  leaky      | (?, 52, 52, 128)\n",
      " Load  |  Yep!  | maxp 2x2p0_2                     | (?, 26, 26, 128)\n",
      " Init  |  Yep!  | conv 3x3p1_1  +bnorm  leaky      | (?, 26, 26, 256)\n",
      " Load  |  Yep!  | maxp 2x2p0_2                     | (?, 13, 13, 256)\n",
      " Init  |  Yep!  | conv 3x3p1_1  +bnorm  leaky      | (?, 13, 13, 512)\n",
      " Load  |  Yep!  | maxp 2x2p0_1                     | (?, 13, 13, 512)\n",
      " Init  |  Yep!  | conv 3x3p1_1  +bnorm  leaky      | (?, 13, 13, 1024)\n",
      " Init  |  Yep!  | conv 3x3p1_1  +bnorm  leaky      | (?, 13, 13, 1024)\n",
      " Init  |  Yep!  | conv 1x1p0_1    linear           | (?, 13, 13, 30)\n",
      "-------+--------+----------------------------------+---------------\n",
      "GPU mode with 0.95 usage\n",
      "Loading from ./ckpt/face_detection_tiny-yolo-voc-1c-43125\n",
      "INFO:tensorflow:Restoring parameters from ./ckpt/face_detection_tiny-yolo-voc-1c-43125\n",
      "Finished in 5.478184461593628s\n",
      "\n"
     ]
    }
   ],
   "source": [
    "\n",
    "options = {\n",
    "                \"model\" : \"cfg/face_detection_tiny-yolo-voc-1c.cfg\",\n",
    "                \"load\" : 43125,\n",
    "                \"threshold\" : 0.1,\n",
    "                \"gpu\" : 0.95\n",
    "                }\n",
    "tfnet = TFNet(options)"
   ]
  },
  {
   "cell_type": "code",
   "execution_count": 13,
   "metadata": {},
   "outputs": [],
   "source": [
    "rpath = \"others\"\n",
    "wpath = \"faces2\""
   ]
  },
  {
   "cell_type": "code",
   "execution_count": 15,
   "metadata": {},
   "outputs": [
    {
     "name": "stdout",
     "output_type": "stream",
     "text": [
      "['femaleSide', 'FemalFront', 'kids', 'maleFront', 'maleSide']\n"
     ]
    }
   ],
   "source": [
    "dircs = next(os.walk(rpath))[1]\n",
    "print(dircs)"
   ]
  },
  {
   "cell_type": "code",
   "execution_count": 17,
   "metadata": {},
   "outputs": [],
   "source": [
    "fileNo = 0"
   ]
  },
  {
   "cell_type": "code",
   "execution_count": 18,
   "metadata": {},
   "outputs": [
    {
     "name": "stdout",
     "output_type": "stream",
     "text": [
      "['112464978-side-view-of-beautiful-young-woman-on-gray-background-female-with-an-unusual-creative-makeup-face-pa.jpg', '16-512.png', '2019-06-ce-corner_tcm7-256880_w1024_n.jpg', '2048x1367-px-blonde-depth-of-field-face-Maxim-Guselnikov-portrait-side-view-white-clothing-women-1008069.jpg', '228a72f4ae42b80ea75218a083db3e5c.jpg', '26C513CF00000578-3009464-image-m-16_1427209053269.jpg', '296977.jpg', '4-512.png', '4032e0031e2e95989f1e76fe3d4f57b7.jpg', '41-411573_women-side-face-silhouette-hd-png-download.png', '41yqAiOCwgL._UY395_.jpg', '4541282-women-blonde-face-maxim-guselnikov-profile-model-alice-tarasenko-portrait-depth-of-field-side-view-white-clothing.jpg', '4553930-women-keira-knightley-brunette-open-mouth-face-portrait-side-view.jpg', '4560915-women-women-outdoors-blonde-long-hair-face-darya-chacheva-windy-side-view-jacket.jpg', '481-4815020_side-shadow-png-women-face-shadow-png-transparent.png', '500_F_126082435_CkTlsf8M4L1tnjvbdyWqiiTclVVFlIKo.jpg', '500_F_260198287_BbfbmsskWDDS2AeJ3mIhTE5Ofgsiywo0.jpg', '543c85a8a0c86bb1fb520f21475b76c5.jpg', '583799.jpg', '71dhTRWBmOL._AC_SY355_.jpg', '800px_COLOURBOX26882759.jpg', '81809551-close-up-side-portrait-of-casual-young-woman-standing-alone.jpg', '83082819-vector-illustration-of-woman-s-face-on-white-background-various-turns-heads-face-in-side-view-front-.jpg', '9057.png_860.png', '91689374-profile-portrait-of-a-beautiful-smiling-teen-girl-on-white-background.jpg', 'a-woman-holding-her-right-hand-over-the-right-side-of-her-face.jpg', 'abstract-fashion-women-side-face-vector-3314229.jpg', 'ADGmqu-Ule3gtl_SzH6OoUzh-p9IXBCafLtfTewcmHqws64-c-mo.jpg', 'adult-and-young-womans-vintage-side-faces-vector-21091393.jpg', 'af1450572cbe42d8dd5f949a8770aa34.jpg', 'be96718e7d8c22ff4f08cd88e0dea5e2.jpg', 'beautiful-woman-clean-face-side-view-portrait-45036638.jpg', 'beautiful-young-woman-perfect-skin-260nw-1019706889.jpg', 'beauty-people-health-concept-young-260nw-339885407.jpg', 'beauty-portrait-of-cute-asian-woman-with-dreaming-face-young-model-KCBCFC.jpg', 'bwi-blws165948.jpg', 'calm-woman-countenance-with-smooth-body-stock-image_csp54324269.jpg', 'Catrinel-Menghia-Pink-Lips-Side-Face-Photoshoot.jpg', 'closeup-side-view-beautiful-young-260nw-381747136.jpg', 'd78de60da4fcb0cc3d21bed93f1d86d3.jpg', 'depositphotos_16908131-stock-photo-beautiful-woman-with-beauty-smiling.jpg', 'emma-watson-women-looking-away-red-lipstick-wallpaper-preview.jpg', 'face-women-portrait-closed-eyes-wallpaper-preview.jpg', 'facegfx-vector-exquisite-women-s-side-face-cutting-background-vector.jpg', 'female-face-long-hair-front-side-vector-illustration-women-s-head-long-hair-124541218.jpg', 'female-side-silhouette-6.jpg', 'hand-drawn-side-profile-wistful-260nw-1021393324.jpg', 'hqdefault.jpg', 'hqdefault0.jpg', 'image.jpeg', 'image.png', 'image0.jpeg', 'image0.png', 'image1.jpeg', 'image1.png', 'image10.jpeg', 'image10.png', 'image11.jpeg', 'image11.png', 'image12.jpeg', 'image12.png', 'image13.jpeg', 'image13.png', 'image14.jpeg', 'image14.png', 'image15.jpeg', 'image15.png', 'image16.jpeg', 'image16.png', 'image17.jpeg', 'image18.jpeg', 'image19.jpeg', 'image2.jpeg', 'image2.png', 'image20.jpeg', 'image3.jpeg', 'image3.png', 'image4.jpeg', 'image4.png', 'image5.jpeg', 'image5.png', 'image6.jpeg', 'image6.png', 'image7.jpeg', 'image7.png', 'image8.jpeg', 'image8.png', 'image9.jpeg', 'image9.png', 'images.jpg', 'images0.jpg', 'images1.jpg', 'images10.jpg', 'images2.jpg', 'images3.jpg', 'images4.jpg', 'images5.jpg', 'images6.jpg', 'images7.jpg', 'images8.jpg', 'images9.jpg', 'jesse-herzog-women-brunette-lying-on-side-wallpaper-preview.jpg', 'Kate-Beckinsale-Looking-Something-Side-Face-Closeup.jpg', 'kisspng-botak-hair-loss-head-skin-man-side-face-5a7e7735dd1a29.6741677015182374939056.jpg', 'make-up-skin-care-concept-side-view-beautiful-women-wit-perfect-isolated-white-background-80136732.jpg', 'man-and-woman-face-silhouette-clip-art-vector_gg62957316.jpg', 'maxresdefault.jpg', 'men_and_woman-01.jpg', 'north-side-lee-001.jpg', 'north-side-lee-002.jpg', 'offset_791070.jpg', 'offset_953005.jpg', 'Olivia20Wilde20Side20Face20Closeup.jpg', 'photo_camera_grey600_24dp.png', 'png-transparent-silhouette-of-hair-style-of-female-illustration-silhouette-female-face-woman-multiple-women-side-face-women-accessories-people-monochrome-thumbnail.png', 'pngtree-women-s-day-female-side-face-hair-beautiful-pink-paper-cut-png-image_4440458.jpg', 'r-actress-hair-side-view-Person-Gwyneth-Paltrow-singing-beauty-woman-Sense-hairstyle-1920x1200-px-portrait-photography-photo-shoot-Hair-Bun-641617.jpg', 'screenshot_5a.png', 'side-view-beautiful-woman-long-260nw-265297823.jpg', 'side-view-on-beautiful-female-face-with-perfect-skin-T195A1.jpg', 'side-view-portrait-attractive-woman-s-face-white-background-side-view-portrait-attractive-woman-s-face-white-170174231.jpg', 'side-view-portrait-of-two-young-korean-women-with-ponytails-face-to-HC9BF5.jpg', 'side-view-young-smiling-woman-clean-face-asian-60175133.jpg', 'silhouette-female-face-woman-multiple-women-side-face-png-side-face-png-900_520.jpg', 'stock-photo-face-of-the-front-and-side-of-women-191848220.jpg', 'three-young-attractive-women-in-side-face-X0JTDA.jpg', 'woman-beautiful-face-27029078.jpg', 'woman-cartoon-illustration-beauty-side-face-png-clip-art-thumbnail.png', 'woman-face-sideview_18591-40321.jpg', 'woman-face-silhouette-png-1.jpg', 'woman-face-skin-problem-unhappy-260nw-260837294.jpg', 'woman-female-hair-face.jpg', 'woman-head-silhouette_1025-216.jpg', 'woman-looking-at-camera-while-holding-white-flowers-png-clip-art-thumbnail.png', 'women-brunette-face-portrait-open-mouth-side-view-bare-shoulders-Natasha-Smirnova-1211105.jpg', 'women-face-silhouette-21.png', 'women-face-women-side-face-silhouette-vector-24037255.jpg', 'women-outdoors-park-blonde-face-wallpaper-preview.jpg', 'women-right-side-face-pencil.jpg', 'women-side-face-3.jpg', 'women-side-face-portrait-monochrome_60711_2500x1668.jpg', 'women-side-face-portrait-monochrome_60711_840x1336.jpg']\n"
     ]
    },
    {
     "ename": "TypeError",
     "evalue": "must be str, not int",
     "output_type": "error",
     "traceback": [
      "\u001b[1;31m---------------------------------------------------------------------------\u001b[0m",
      "\u001b[1;31mTypeError\u001b[0m                                 Traceback (most recent call last)",
      "\u001b[1;32m<ipython-input-18-7f2b622f9bb4>\u001b[0m in \u001b[0;36m<module>\u001b[1;34m()\u001b[0m\n\u001b[0;32m     17\u001b[0m                 \u001b[0mbr\u001b[0m \u001b[1;33m=\u001b[0m \u001b[1;33m(\u001b[0m\u001b[0mresult\u001b[0m\u001b[1;33m[\u001b[0m\u001b[1;34m'bottomright'\u001b[0m\u001b[1;33m]\u001b[0m\u001b[1;33m[\u001b[0m\u001b[1;34m'x'\u001b[0m\u001b[1;33m]\u001b[0m\u001b[1;33m,\u001b[0m \u001b[0mresult\u001b[0m\u001b[1;33m[\u001b[0m\u001b[1;34m'bottomright'\u001b[0m\u001b[1;33m]\u001b[0m\u001b[1;33m[\u001b[0m\u001b[1;34m'y'\u001b[0m\u001b[1;33m]\u001b[0m\u001b[1;33m)\u001b[0m\u001b[1;33m\u001b[0m\u001b[0m\n\u001b[0;32m     18\u001b[0m                 \u001b[0mface\u001b[0m \u001b[1;33m=\u001b[0m \u001b[0mframe\u001b[0m\u001b[1;33m[\u001b[0m\u001b[0mtl\u001b[0m\u001b[1;33m[\u001b[0m\u001b[1;36m1\u001b[0m\u001b[1;33m]\u001b[0m\u001b[1;33m:\u001b[0m\u001b[0mbr\u001b[0m\u001b[1;33m[\u001b[0m\u001b[1;36m1\u001b[0m\u001b[1;33m]\u001b[0m\u001b[1;33m,\u001b[0m \u001b[0mtl\u001b[0m\u001b[1;33m[\u001b[0m\u001b[1;36m0\u001b[0m\u001b[1;33m]\u001b[0m\u001b[1;33m:\u001b[0m\u001b[0mbr\u001b[0m\u001b[1;33m[\u001b[0m\u001b[1;36m0\u001b[0m\u001b[1;33m]\u001b[0m\u001b[1;33m]\u001b[0m\u001b[1;33m\u001b[0m\u001b[0m\n\u001b[1;32m---> 19\u001b[1;33m                 \u001b[0mcv2\u001b[0m\u001b[1;33m.\u001b[0m\u001b[0mimwrite\u001b[0m\u001b[1;33m(\u001b[0m\u001b[0mwpath\u001b[0m\u001b[1;33m+\u001b[0m\u001b[1;34m\"\\\\\"\u001b[0m\u001b[1;33m+\u001b[0m\u001b[0mfileNo\u001b[0m\u001b[1;33m+\u001b[0m\u001b[1;34m\".jpg\"\u001b[0m\u001b[1;33m,\u001b[0m\u001b[0mface\u001b[0m\u001b[1;33m)\u001b[0m\u001b[1;33m\u001b[0m\u001b[0m\n\u001b[0m",
      "\u001b[1;31mTypeError\u001b[0m: must be str, not int"
     ]
    }
   ],
   "source": [
    "for x in dircs:\n",
    "    mypath = rpath+\"\\\\\"+x\n",
    "    onlyfiles = [f for f in listdir(mypath) if isfile(join(mypath, f))]\n",
    "    \n",
    "    print(onlyfiles)\n",
    "    #temp[x] = onlyfiles\n",
    "    for y in onlyfiles:\n",
    "        imagePath = mypath+\"\\\\\"+y\n",
    "        frame = cv2.imread(imagePath, cv2.IMREAD_COLOR)\n",
    "        results = tfnet.return_predict(frame)\n",
    "        #if len(results) == 0:\n",
    "         #   rects = usingDlib(frame)\n",
    "        for result in results:        \n",
    "            label = result[\"label\"]\n",
    "            if label.lower()=='face':\n",
    "                tl = (result['topleft']['x'], result['topleft']['y'])\n",
    "                br = (result['bottomright']['x'], result['bottomright']['y'])\n",
    "                face = frame[tl[1]:br[1], tl[0]:br[0]]\n",
    "                cv2.imwrite(wpath+\"\\\\\"+str(fileNo)+\".jpg\",face)\n",
    "                fileNo+=1"
   ]
  },
  {
   "cell_type": "code",
   "execution_count": null,
   "metadata": {},
   "outputs": [],
   "source": []
  }
 ],
 "metadata": {
  "kernelspec": {
   "display_name": "Python 3",
   "language": "python",
   "name": "python3"
  },
  "language_info": {
   "codemirror_mode": {
    "name": "ipython",
    "version": 3
   },
   "file_extension": ".py",
   "mimetype": "text/x-python",
   "name": "python",
   "nbconvert_exporter": "python",
   "pygments_lexer": "ipython3",
   "version": "3.6.4"
  }
 },
 "nbformat": 4,
 "nbformat_minor": 2
}
