{
 "cells": [
  {
   "cell_type": "code",
   "execution_count": 1,
   "metadata": {},
   "outputs": [
    {
     "name": "stderr",
     "output_type": "stream",
     "text": [
      "c:\\users\\hp\\anaconda3\\lib\\site-packages\\tensorflow\\python\\framework\\dtypes.py:519: FutureWarning: Passing (type, 1) or '1type' as a synonym of type is deprecated; in a future version of numpy, it will be understood as (type, (1,)) / '(1,)type'.\n",
      "  _np_qint8 = np.dtype([(\"qint8\", np.int8, 1)])\n",
      "c:\\users\\hp\\anaconda3\\lib\\site-packages\\tensorflow\\python\\framework\\dtypes.py:520: FutureWarning: Passing (type, 1) or '1type' as a synonym of type is deprecated; in a future version of numpy, it will be understood as (type, (1,)) / '(1,)type'.\n",
      "  _np_quint8 = np.dtype([(\"quint8\", np.uint8, 1)])\n",
      "c:\\users\\hp\\anaconda3\\lib\\site-packages\\tensorflow\\python\\framework\\dtypes.py:521: FutureWarning: Passing (type, 1) or '1type' as a synonym of type is deprecated; in a future version of numpy, it will be understood as (type, (1,)) / '(1,)type'.\n",
      "  _np_qint16 = np.dtype([(\"qint16\", np.int16, 1)])\n",
      "c:\\users\\hp\\anaconda3\\lib\\site-packages\\tensorflow\\python\\framework\\dtypes.py:522: FutureWarning: Passing (type, 1) or '1type' as a synonym of type is deprecated; in a future version of numpy, it will be understood as (type, (1,)) / '(1,)type'.\n",
      "  _np_quint16 = np.dtype([(\"quint16\", np.uint16, 1)])\n",
      "c:\\users\\hp\\anaconda3\\lib\\site-packages\\tensorflow\\python\\framework\\dtypes.py:523: FutureWarning: Passing (type, 1) or '1type' as a synonym of type is deprecated; in a future version of numpy, it will be understood as (type, (1,)) / '(1,)type'.\n",
      "  _np_qint32 = np.dtype([(\"qint32\", np.int32, 1)])\n",
      "c:\\users\\hp\\anaconda3\\lib\\site-packages\\tensorflow\\python\\framework\\dtypes.py:528: FutureWarning: Passing (type, 1) or '1type' as a synonym of type is deprecated; in a future version of numpy, it will be understood as (type, (1,)) / '(1,)type'.\n",
      "  np_resource = np.dtype([(\"resource\", np.ubyte, 1)])\n",
      "c:\\users\\hp\\anaconda3\\lib\\site-packages\\dask\\dataframe\\utils.py:14: FutureWarning: pandas.util.testing is deprecated. Use the functions in the public API at pandas.testing instead.\n",
      "  import pandas.util.testing as tm\n"
     ]
    }
   ],
   "source": [
    "import imutils\n",
    "import dlib\n",
    "import pandas as pd\n",
    "import cv2\n",
    "from darkflow.net.build import TFNet\n",
    "import os\n",
    "from os import listdir\n",
    "from os.path import isfile, join\n"
   ]
  },
  {
   "cell_type": "code",
   "execution_count": 2,
   "metadata": {},
   "outputs": [
    {
     "name": "stdout",
     "output_type": "stream",
     "text": [
      "Parsing cfg/face_detection_tiny-yolo-voc-1c.cfg\n",
      "Loading None ...\n",
      "Finished in 0.0009965896606445312s\n",
      "\n",
      "Building net ...\n",
      "Source | Train? | Layer description                | Output size\n",
      "-------+--------+----------------------------------+---------------\n",
      "       |        | input                            | (?, 416, 416, 3)\n",
      " Init  |  Yep!  | conv 3x3p1_1  +bnorm  leaky      | (?, 416, 416, 16)\n",
      " Load  |  Yep!  | maxp 2x2p0_2                     | (?, 208, 208, 16)\n",
      " Init  |  Yep!  | conv 3x3p1_1  +bnorm  leaky      | (?, 208, 208, 32)\n",
      " Load  |  Yep!  | maxp 2x2p0_2                     | (?, 104, 104, 32)\n",
      " Init  |  Yep!  | conv 3x3p1_1  +bnorm  leaky      | (?, 104, 104, 64)\n",
      " Load  |  Yep!  | maxp 2x2p0_2                     | (?, 52, 52, 64)\n",
      " Init  |  Yep!  | conv 3x3p1_1  +bnorm  leaky      | (?, 52, 52, 128)\n",
      " Load  |  Yep!  | maxp 2x2p0_2                     | (?, 26, 26, 128)\n",
      " Init  |  Yep!  | conv 3x3p1_1  +bnorm  leaky      | (?, 26, 26, 256)\n",
      " Load  |  Yep!  | maxp 2x2p0_2                     | (?, 13, 13, 256)\n",
      " Init  |  Yep!  | conv 3x3p1_1  +bnorm  leaky      | (?, 13, 13, 512)\n",
      " Load  |  Yep!  | maxp 2x2p0_1                     | (?, 13, 13, 512)\n",
      " Init  |  Yep!  | conv 3x3p1_1  +bnorm  leaky      | (?, 13, 13, 1024)\n",
      " Init  |  Yep!  | conv 3x3p1_1  +bnorm  leaky      | (?, 13, 13, 1024)\n",
      " Init  |  Yep!  | conv 1x1p0_1    linear           | (?, 13, 13, 30)\n",
      "-------+--------+----------------------------------+---------------\n",
      "GPU mode with 0.95 usage\n",
      "Loading from ./ckpt/face_detection_tiny-yolo-voc-1c-43125\n",
      "INFO:tensorflow:Restoring parameters from ./ckpt/face_detection_tiny-yolo-voc-1c-43125\n",
      "Finished in 5.478184461593628s\n",
      "\n"
     ]
    }
   ],
   "source": [
    "\n",
    "options = {\n",
    "                \"model\" : \"cfg/face_detection_tiny-yolo-voc-1c.cfg\",\n",
    "                \"load\" : 43125,\n",
    "                \"threshold\" : 0.1,\n",
    "                \"gpu\" : 0.95\n",
    "                }\n",
    "tfnet = TFNet(options)"
   ]
  },
  {
   "cell_type": "code",
   "execution_count": 13,
   "metadata": {},
   "outputs": [],
   "source": [
    "rpath = \"others\"\n",
    "wpath = \"faces2\""
   ]
  },
  {
   "cell_type": "code",
   "execution_count": 15,
   "metadata": {},
   "outputs": [
    {
     "name": "stdout",
     "output_type": "stream",
     "text": [
      "['femaleSide', 'FemalFront', 'kids', 'maleFront', 'maleSide']\n"
     ]
    }
   ],
   "source": [
    "dircs = next(os.walk(rpath))[1]\n",
    "print(dircs)"
   ]
  },
  {
   "cell_type": "code",
   "execution_count": 17,
   "metadata": {},
   "outputs": [],
   "source": [
    "fileNo = 0"
   ]
  },
  {
   "cell_type": "code",
   "execution_count": 19,
   "metadata": {},
   "outputs": [
    {
     "name": "stdout",
     "output_type": "stream",
     "text": [
      "['112464978-side-view-of-beautiful-young-woman-on-gray-background-female-with-an-unusual-creative-makeup-face-pa.jpg', '16-512.png', '2019-06-ce-corner_tcm7-256880_w1024_n.jpg', '2048x1367-px-blonde-depth-of-field-face-Maxim-Guselnikov-portrait-side-view-white-clothing-women-1008069.jpg', '228a72f4ae42b80ea75218a083db3e5c.jpg', '26C513CF00000578-3009464-image-m-16_1427209053269.jpg', '296977.jpg', '4-512.png', '4032e0031e2e95989f1e76fe3d4f57b7.jpg', '41-411573_women-side-face-silhouette-hd-png-download.png', '41yqAiOCwgL._UY395_.jpg', '4541282-women-blonde-face-maxim-guselnikov-profile-model-alice-tarasenko-portrait-depth-of-field-side-view-white-clothing.jpg', '4553930-women-keira-knightley-brunette-open-mouth-face-portrait-side-view.jpg', '4560915-women-women-outdoors-blonde-long-hair-face-darya-chacheva-windy-side-view-jacket.jpg', '481-4815020_side-shadow-png-women-face-shadow-png-transparent.png', '500_F_126082435_CkTlsf8M4L1tnjvbdyWqiiTclVVFlIKo.jpg', '500_F_260198287_BbfbmsskWDDS2AeJ3mIhTE5Ofgsiywo0.jpg', '543c85a8a0c86bb1fb520f21475b76c5.jpg', '583799.jpg', '71dhTRWBmOL._AC_SY355_.jpg', '800px_COLOURBOX26882759.jpg', '81809551-close-up-side-portrait-of-casual-young-woman-standing-alone.jpg', '83082819-vector-illustration-of-woman-s-face-on-white-background-various-turns-heads-face-in-side-view-front-.jpg', '9057.png_860.png', '91689374-profile-portrait-of-a-beautiful-smiling-teen-girl-on-white-background.jpg', 'a-woman-holding-her-right-hand-over-the-right-side-of-her-face.jpg', 'abstract-fashion-women-side-face-vector-3314229.jpg', 'ADGmqu-Ule3gtl_SzH6OoUzh-p9IXBCafLtfTewcmHqws64-c-mo.jpg', 'adult-and-young-womans-vintage-side-faces-vector-21091393.jpg', 'af1450572cbe42d8dd5f949a8770aa34.jpg', 'be96718e7d8c22ff4f08cd88e0dea5e2.jpg', 'beautiful-woman-clean-face-side-view-portrait-45036638.jpg', 'beautiful-young-woman-perfect-skin-260nw-1019706889.jpg', 'beauty-people-health-concept-young-260nw-339885407.jpg', 'beauty-portrait-of-cute-asian-woman-with-dreaming-face-young-model-KCBCFC.jpg', 'bwi-blws165948.jpg', 'calm-woman-countenance-with-smooth-body-stock-image_csp54324269.jpg', 'Catrinel-Menghia-Pink-Lips-Side-Face-Photoshoot.jpg', 'closeup-side-view-beautiful-young-260nw-381747136.jpg', 'd78de60da4fcb0cc3d21bed93f1d86d3.jpg', 'depositphotos_16908131-stock-photo-beautiful-woman-with-beauty-smiling.jpg', 'emma-watson-women-looking-away-red-lipstick-wallpaper-preview.jpg', 'face-women-portrait-closed-eyes-wallpaper-preview.jpg', 'facegfx-vector-exquisite-women-s-side-face-cutting-background-vector.jpg', 'female-face-long-hair-front-side-vector-illustration-women-s-head-long-hair-124541218.jpg', 'female-side-silhouette-6.jpg', 'hand-drawn-side-profile-wistful-260nw-1021393324.jpg', 'hqdefault.jpg', 'hqdefault0.jpg', 'image.jpeg', 'image.png', 'image0.jpeg', 'image0.png', 'image1.jpeg', 'image1.png', 'image10.jpeg', 'image10.png', 'image11.jpeg', 'image11.png', 'image12.jpeg', 'image12.png', 'image13.jpeg', 'image13.png', 'image14.jpeg', 'image14.png', 'image15.jpeg', 'image15.png', 'image16.jpeg', 'image16.png', 'image17.jpeg', 'image18.jpeg', 'image19.jpeg', 'image2.jpeg', 'image2.png', 'image20.jpeg', 'image3.jpeg', 'image3.png', 'image4.jpeg', 'image4.png', 'image5.jpeg', 'image5.png', 'image6.jpeg', 'image6.png', 'image7.jpeg', 'image7.png', 'image8.jpeg', 'image8.png', 'image9.jpeg', 'image9.png', 'images.jpg', 'images0.jpg', 'images1.jpg', 'images10.jpg', 'images2.jpg', 'images3.jpg', 'images4.jpg', 'images5.jpg', 'images6.jpg', 'images7.jpg', 'images8.jpg', 'images9.jpg', 'jesse-herzog-women-brunette-lying-on-side-wallpaper-preview.jpg', 'Kate-Beckinsale-Looking-Something-Side-Face-Closeup.jpg', 'kisspng-botak-hair-loss-head-skin-man-side-face-5a7e7735dd1a29.6741677015182374939056.jpg', 'make-up-skin-care-concept-side-view-beautiful-women-wit-perfect-isolated-white-background-80136732.jpg', 'man-and-woman-face-silhouette-clip-art-vector_gg62957316.jpg', 'maxresdefault.jpg', 'men_and_woman-01.jpg', 'north-side-lee-001.jpg', 'north-side-lee-002.jpg', 'offset_791070.jpg', 'offset_953005.jpg', 'Olivia20Wilde20Side20Face20Closeup.jpg', 'photo_camera_grey600_24dp.png', 'png-transparent-silhouette-of-hair-style-of-female-illustration-silhouette-female-face-woman-multiple-women-side-face-women-accessories-people-monochrome-thumbnail.png', 'pngtree-women-s-day-female-side-face-hair-beautiful-pink-paper-cut-png-image_4440458.jpg', 'r-actress-hair-side-view-Person-Gwyneth-Paltrow-singing-beauty-woman-Sense-hairstyle-1920x1200-px-portrait-photography-photo-shoot-Hair-Bun-641617.jpg', 'screenshot_5a.png', 'side-view-beautiful-woman-long-260nw-265297823.jpg', 'side-view-on-beautiful-female-face-with-perfect-skin-T195A1.jpg', 'side-view-portrait-attractive-woman-s-face-white-background-side-view-portrait-attractive-woman-s-face-white-170174231.jpg', 'side-view-portrait-of-two-young-korean-women-with-ponytails-face-to-HC9BF5.jpg', 'side-view-young-smiling-woman-clean-face-asian-60175133.jpg', 'silhouette-female-face-woman-multiple-women-side-face-png-side-face-png-900_520.jpg', 'stock-photo-face-of-the-front-and-side-of-women-191848220.jpg', 'three-young-attractive-women-in-side-face-X0JTDA.jpg', 'woman-beautiful-face-27029078.jpg', 'woman-cartoon-illustration-beauty-side-face-png-clip-art-thumbnail.png', 'woman-face-sideview_18591-40321.jpg', 'woman-face-silhouette-png-1.jpg', 'woman-face-skin-problem-unhappy-260nw-260837294.jpg', 'woman-female-hair-face.jpg', 'woman-head-silhouette_1025-216.jpg', 'woman-looking-at-camera-while-holding-white-flowers-png-clip-art-thumbnail.png', 'women-brunette-face-portrait-open-mouth-side-view-bare-shoulders-Natasha-Smirnova-1211105.jpg', 'women-face-silhouette-21.png', 'women-face-women-side-face-silhouette-vector-24037255.jpg', 'women-outdoors-park-blonde-face-wallpaper-preview.jpg', 'women-right-side-face-pencil.jpg', 'women-side-face-3.jpg', 'women-side-face-portrait-monochrome_60711_2500x1668.jpg', 'women-side-face-portrait-monochrome_60711_840x1336.jpg']\n",
      "['01-512.png', '01979ae8390595650b9c50f8b2020a03--beauty-tips-hair-beauty.jpg', '10049_-Everything-_ddd00-800x600.jpg', '100956194-vector-illustration-of-woman-s-face-on-white-background-various-turns-heads-face-in-side-view-front-.jpg', '105009855_black_bk-v1593540697486.jpeg', '130554555-close-up-horizontal-front-portrait-of-attractive-young-indian-woman-with-serious-expression-on-face.jpg', '13715917933_ffd783f8c7_b.jpg', '1458141955Sonakshi-Sinha-853X543.jpg', '16b87cdebfa58ad44855b8231ea0b7be.jpg', '18-haircut-for-women-amanda-seyfried-heart-shaped-face-front-layers-400x486.jpg', '191-1912362_beautiful-model-face-front-beautiful-woman-face-png.png', '198343078.jpg', '2fbeae838aea38bcf2456b1e8e5346c3-4.jpeg', '3-up-layered-hair-1571682932.jpg', '401fc98d36e9f37ed526be1b07438a91--short-straight-hairstyles-women-short-hairstyles.jpg', '41549846.jpg', '43705847-women-who-join-hands-in-front-of-face.jpg', '4510502-women-model-blonde-long-hair-naomi-woods-lying-on-front-face-bare-shoulders-choker-fur.jpg', '4517616-women-brunette-face-blue-eyes-lying-on-front-sasha-ruskih-portrait-depth-of-field-dress-natural-light.jpg', '4520290-sara-magdalena-women-blonde-face-lying-on-front-sara-magdalena-deichsel-portrait-couch-depth-of-field-miro-hofmann.jpg', '4528317-women-blonde-blue-eyes-looking-at-viewer-lying-on-front-face-red-lipstick-piercing-sweater.jpg', '612hd7-JfsL._SY355_.jpg', '61TS6d6BSNL._UL1024_.jpg', '62102755d1db3a1dd9ee733ebcb3f2dd.jpg', '67113207.jpg', '71tCWCeFvvL._SY355_.jpg', '8269.png_300.png', '90936798-women-face-vector-illustration-flat-style-front-view.jpg', 'ADGmqu-Ule3gtl_SzH6OoUzh-p9IXBCafLtfTewcmHqws64-c-mo.jpg', 'b2b5b30e4b4b75365ce57ca30040e76a--female-faces-female-face-claims.jpg', 'Bar20Refaeli20Looking20Front20Face20Closeup.jpg', 'be2478a12457b508e505a8763d6a8442.jpg', 'beautiful-woman-face-close-portrait-260nw-336270224.jpg', 'beautiful-woman-face-close-portrait-260nw-365128826.jpg', 'beautiful-young-woman-beautiful-blue-eyes-front-portrait-face-white-background-34111141.jpg', 'beauty-with-berry-beautiful-young-women-holding-berries-in-front-of-her-face-and-smiling-while-stock-photos_csp16692633.jpg', 'black-haired-women-holding-an-apple-in-front-of-her-face-B09386.jpg', 'c9cb25b39e699bd8e8c5d3a3a947b625.jpg', 'cheek-zygomatic-bone-skin-measurement-su-70968-png-images-pngio-woman-face-png-750_500.png', 'Cotton-Mood-Women-Black-Front-Face-Embroidered-Long-Sleeve-Shirt-7370440.jpg', 'cute-front-haircut-for-women19.jpg', 'de528f8876a48226a424d5136088ad6b.jpg', 'e62fa9b1468f6c35d6a032a5d0d06964.jpg', 'eauty-eye-lady-blond-hairstyle-portrait-photography-photo-shoot-brown-hair-art-model-human-hair-color-hair-coloring-red-hair-close-up-freckle-4033.jpg', 'ess-lying-on-front-white-tops-fashion-spring-Person-skin-supermodel-girl-beauty-eye-woman-bride-photograph-portrait-photography-photo-shoot-209282.jpg', 'face-2-face-women-s-beauty-parlour-salem-u80vfahu0f.jpg', 'female-face-long-hair-front-side-vector-illustration-women-s-head-long-hair-124541218.jpg', 'female-face-stock-image-2897190.jpg', 'ff306697416855abf0acdc4ac7fd60aa.png', 'finger-frame-beautiful-young-women-stock-photo__k16601857.jpg', 'FM100A_M_Front_0002_RET_1600x.jpg', 'front-portrait-woman-beauty-face-260nw-497756323.jpg', 'front-view-beautiful-female-face-perfect-skin-front-view-beautiful-female-face-perfect-skin-over-white-background-143563838.jpg', 'grayscale-photo-of-women-s-face.jpg', 'H828d543e1aaa4b60bad1c7a8d4b34f16w.jpg_q50.jpg', 'image.jpeg', 'image.png', 'image0.jpeg', 'image0.png', 'image1.jpeg', 'image1.png', 'image10.jpeg', 'image10.png', 'image11.jpeg', 'image11.png', 'image12.jpeg', 'image12.png', 'image13.jpeg', 'image13.png', 'image14.jpeg', 'image15.jpeg', 'image16.jpeg', 'image17.jpeg', 'image18.jpeg', 'image19.jpeg', 'image2.jpeg', 'image2.png', 'image20.jpeg', 'image21.jpeg', 'image22.jpeg', 'image3.jpeg', 'image3.png', 'image4.jpeg', 'image4.png', 'image5.jpeg', 'image5.png', 'image6.jpeg', 'image6.png', 'image7.jpeg', 'image7.png', 'image8.jpeg', 'image8.png', 'image9.jpeg', 'image9.png', 'images.jpg', 'images0.jpg', 'images1.jpg', 'images2.jpg', 'images3.jpg', 'images4.jpg', 'images5.jpg', 'images6.jpg', 'images7.jpg', 'images8.jpg', 'kate-beckinsale-hair-553x830.jpg', 'lace-front-hair-wigs-500x500.jpg', 'Lods-Franck-lying-on-front-blonde-face-bokeh-blue-eyes-depth-of-field-portrait-looking-at-viewer-photography-women-model-pink-lipstick-1510901.jpg', 'maxresdefault.jpg', 'maxresdefault0.jpg', 'maxresdefault1.jpg', 'model-woman-portrait-face.jpg', 'MW-ID448_equalp_20200331113134_ZQ.jpg', 'n_at_the_Douglas_Aircraft_Company2C_give_important_help_in_producing_dependable_planes_for_their_men_at_the_front2C_Long_Beach2C_Calif_28cropped29.jpg', 'n_at_the_Douglas_Aircraft_Company2C_give_important_help_in_producing_dependable_planes_for_their_men_at_the_front2C_Long_Beach2C_Calif_28cropped290.jpg', 'o-INDIAN-WOMAN-facebook.jpg', 'one-size-ign-1-pack-of-3-static-women-face-shield-universal-size-original-imafszyftvzgnr9c.jpeg', 'photo_camera_grey600_24dp.png', 'portrait-beautiful-arab-woman-face-black-scarf-front-view-34168325.jpg', 'portrait-beautiful-woman-front-beauty-face-isolated-35879114.jpg', 'portrait-face-woman-asian.jpg', 'portrait-light-face.jpg', 'portrait-of-ochre-dyed-short-hair-hamer-woman-ethiopia-CEAKM7.jpg', 'portrait-of-woven-hairstyle-tsemay-woman-ethiopia-CEAKRW.jpg', 'red-silhouette-shading-cartoon-front-face-woman-vector-14557830.jpg', 'ront-hair-Person-skin-supermodel-Joanna-Krupa-girl-beauty-woman-leg-blond-hairstyle-1920x1080-px-portrait-photography-photo-shoot-art-model-594172.jpg', 'smiling-portrait-blonde-african-young-women-holding-wooden-frame-front-their-face_23-2148178772.jpg', 'smooth-long-hairstyles-for-women.jpg', 'woman-face-front-vector-line-icon-linear-concept-outline-sign-symbol-T82T83.jpg', 'woman-face-with-dry-skin.jpg', 'woman-with-black-hair-taking-selfie-png-clip-art.png', 'woman39s-face-10.jpg', 'women-blonde-face-portrait-wallpaper-preview.jpg', 'women-face-long-hair-looking-at-viewer-wallpaper-preview.jpg', 'women-face-portrait-depth-of-field-wallpaper-preview.jpg', 'women-face-portrait-jesse-herzog-wallpaper-preview.jpg', 'women-in-front-and-profile-black-and-white-erich-caparas.jpg', 'xxl-anti-pollution-mask-balacava-anti-dust-nose-air-pollution-original-imafpn82zfuxznng.jpeg', 'young-adult-woman-beautiful-face-isolated-white-skin-care-concept-closeup-front-portrait-girl-36585372.jpg', 'young-woman-face-cartoon-in-front-of-camera-vector-illustration-graphic-design-R18XF8.jpg', 'ZoeyDeutchDKNYWomenFrontRowMercedesYGKbgK32YFzl.jpg']\n"
     ]
    },
    {
     "name": "stdout",
     "output_type": "stream",
     "text": [
      "['0a8505603f43baaed4861a826e376948.jpg', '0d63c11359f99a2c2eea9bceb8aa842905ddcd31.jpg', '0e5c81ce70c9ee947e9ff89172141fa9.jpg', '1.jpg', '1073057_slapped-cheek-syndrome-spl-17.jpg', '10pcs-anti-direct-splash-spray-saliva-cartoon-face-shield-for-kids-double-side-anti-fog-full-face-cover-protective-mask-for-girls-and-boys-w03583-600x600.jpg', '10pcs-anti-spitting-direct-splash-hd-face-shields-for-kids-both-side-anti-fog-full-face-cover-protective-mask-for-boy-girls-w03572-600x600.jpg', '10pcs-anti-spray-saliva-cartoon-hd-face-shield-for-kids-full-face-cover-anti-direct-splash-both-side-anti-fog-protective-mask-for-girls-and-boys-12712-600x600.jpg', '10pcs-kids-anti-spray-saliva-direct-splash-cartoon-face-shield-double-side-anti-fog-hd-protective-mask-for-boys-girls-w03570-800x800.jpg', '122376560-asian-kids-with-air-polution-protect-mask-process-in-side-view-with-doctor-suite-costume-portrait-ac.jpg', '2fd7d6687ccb887c5a52ab8670a378ea.jpg', '346b054731062f4717ee16cb601c6f5c.jpg', '411F-MswzzL.jpg', '500_F_214102010_fmrKP8npI5WLuV693ZNamqT11oqxG4Mm.jpg', '51sVoI0xeeL._AC_SS350_.jpg', '568fd6bcf22acd895bcd992aa91ce6bf_side-view-nose-clipart-for-kids_1300-1065.jpeg', '5pcs-kids-anti-spray-saliva-spitting-face-shield-for-kids-both-side-anti-fog-hd-protective-isolation-face-cover-mask-for-boy-and-girls-12690-600x600.jpg', '61bfAcElv7L._AC_UL320_SR240320_.jpg', '6_children8217s_cartoon_face_vector_559284.jpg', '71LvbX4ExmL._SX342_.jpg', '73543a4a27b17fbb7a2a4d71b4db5a45.jpg', '8d248f9d1f7a40ae0531172662f178af.jpeg', 'ab2f6de9bf3564e7aeb42129ca2aca92.jpg', 'ADGmqu-Ule3gtl_SzH6OoUzh-p9IXBCafLtfTewcmHqws64-c-mo.jpg', 'AdultChildProfiles.png', 'Amazing-DIY-Face-Painting-Ideas-2.jpg', 'Anti-Spitting-Protective-Safety-Face-Shield-Kids-Dustproof-Isolating-Saliva-Full-Face-Shield-Custom-Logo-Outdoor-Anti-Sand-Windproof-Sun-Hat-for-Camping-Travel.jpg', 'blogphotos.jpg', 'Boys-Shark-Side-Face-Painting.jpg', 'c0934b5897893de97dd224b48c20b1ec.jpg', 'Cats-Print-side-kids.jpg', 'child-profile-icon-avatar-face-260nw-498280444.jpg', 'Cubism.jpg', 'cute-girls-set-vector-kids-smile-face-front-side-view-circle-frames-children-wearing-shirts-having-hairdo-ribbons-145201229.jpg', 'd3401eda289c663aabbcbb24e3efdc039702794e_400_400.jpeg', 'depositphotos_183101798-stock-illustration-front-side-back-view-animated.jpg', 'e8315aaeb6a081fe9e8e34a42a712192.jpg', 'Extra-long-side-sweep.jpg', 'f4005c1f865716c09bcb65a2c799b0b1.jpg', 'FabKids-owen2.jpg', 'face-painting-design-ideas-for-kids-16-e1553493550608.jpg', 'face_painting_1555248811.jpg', 'family-look-alikes-relatives-fb__700.jpg', 'figure-drawing-for-children_Page_51.jpg', 'getty_177411453_99176.jpg', 'Granite-side-kids.jpg', 'haircut-for-kids-facetype-cuts-trends-side-parted-short-style-fashion-2018.jpg', 'holding-child.jpg', 'how-to-draw-cute-chibi-girl-side-profile-view-easy-step-by-step-drawing-lesson-for-children-anime-beginners.jpg', 'hqdefault.jpg', 'hqdefault0.jpg', 'HTB1NofIJVXXXXbtXXXXq6xXFXXXP.jpg', 'image.jpeg', 'image.png', 'image0.jpeg', 'image0.png', 'image1.jpeg', 'image1.png', 'image10.jpeg', 'image10.png', 'image11.jpeg', 'image11.png', 'image12.jpeg', 'image12.png', 'image13.jpeg', 'image13.png', 'image14.jpeg', 'image14.png', 'image15.jpeg', 'image15.png', 'image16.jpeg', 'image17.jpeg', 'image2.jpeg', 'image2.png', 'image3.jpeg', 'image3.png', 'image4.jpeg', 'image4.png', 'image5.jpeg', 'image5.png', 'image6.jpeg', 'image6.png', 'image7.jpeg', 'image7.png', 'image8.jpeg', 'image8.png', 'image9.jpeg', 'image9.png', 'images.jpg', 'images0.jpg', 'images1.jpg', 'images2.jpg', 'images3.jpg', 'images4.jpg', 'images5.jpg', 'images6.jpg', 'images7.jpg', 'images8.jpg', 'kids-face-shield.png', 'kids-massage-concept-background-female-therapist-giving-a-young-boy-face-massage-side-view-2B18RBW.jpg', 'kids-massage-concept-background-female-therapist-giving-a-young-boy-face-massage-side-view-close-up-2AK9R43.jpg', 'Lovely-Baby-Side-Face-Closeups.jpg', 'Mask-Foam-Strip-with-One-Side-Adhesive-for-Cute-Kids-Children-Face-Shield.jpg', 'Mask-Foam-Strip-with-One-Side-Adhesive-for-Cute-Kids-Children-Face-Shield0.jpg', 'maxresdefault.jpg', 'maxresdefault0.jpg', 'maxresdefault1.jpg', 'people-children-portrait-of-a-baby-circa-1910-additional-rights-clearences-C418WF.jpg', 'Perfect-Side-Face-Clear-Stamps-Girl-With-Beautiful-Side-Face-For-DIY-Card-Making-Kids-Transparent.jpg', 'photo_camera_grey600_24dp.png', 'pretty-girls-face-side-view-beirut-lebanon-middle-east-asia-BX1WTR.jpg', 'profile-side-view-face-brownhaired-260nw-1410238751.jpg', 'RS13433_CCKE15-kid-face-paint.jpg', 's-l200.jpg', 'screen-shot-2014-06-09-at-9-18-05-am.png', 'side-by-side-photos-of-parents-and-their-kids-at-the-same-age-8.jpg', 'side-profile-indian-kid-260nw-53997118.jpg', 'Side-Swept-Textured-Crop.jpg', 'side-view-face-child-medical-mask-child-protection-from-viruses_134398-6843.jpg', 'side-view-face-cute-little-260nw-1086194288.jpg', 'silhouette-girl-kid-head-ponytail-260nw-786469627.jpg', 'Simple-side-butterfly.jpg', 'split-face-portraits-of-relatives-ulric-collette-10.jpg', 'textured-hard-part-for-kids.jpg', 'Tips-for-Helping-Kids-Adults-With-Special-Needs-Ad-6664-c2c06d55d5-1588869184.jpg', 'torticollisCongenital_a_enIL.jpg', 't_7d25e50df63e447fb66ebf738730b21f_name_boy.jpg', 'various-children-profile-set-avatar-260nw-498249829.jpg', 'various-children-profile-set-avatar-260nw-498249832.jpg', 'YOJA-Beautiful-Side-Face-Girl-Kids-Room-Decor-Wall-Sticker-Colour-Switch-Decal-PVC-Nice-quality.jpg_q50.jpg', 'youtube_preview_banner.png']\n",
      "['04847FED-4FCF-46CD-91A0-85B9C1D4F611-450x600.jpeg', '1.jpg', '1140-men-skin-care-cream.imgcache.rev4f15469dc46d3c4ad4e7e3294ac9446c.jpg', '11502357772620-The-North-Face-Men-White-Printed-Water-Resistant-Open-Front-Jacket-6281502357772421-1.jpg', '244-2443139_yaoming-front-right-mentahan-yao-ming-face-hd.png', '286-2862952_tyler-oakley-front-face-men-with-glasses-front.png', '31656010991_a5db87bdd2_z.jpg', '33621627.jpg', '40398906.jpg', '431ab074041875f6345c3fb3e1bb70f9.jpg', '4bff5daca12b18c327d5f7d85625419b.jpg', '500_F_175902989_zeLDjuOGwtxT0yaUck63hqUiELViPMcE.jpg', '500_F_178563166_7DoNGYNOwJcmvhji0g8g82Z4z7i6kxoi.jpg', '5cf43886f34d41bebd260ae73d01671d.jpg', '600-02123762em-portrait-of-man-with-hands-in-front-of-face-stock-photo.jpg', '62049ade1bec645091ecb0329ed30406.jpg', '63917207.jpg', '63991298.jpg', '661f310d628fa053054d0fb1771e7dca.jpg', '71TvzmNG4cL._SL1500_.jpg', '78149699-men-face-vector-illustration-style-flat-front.jpg', '800px_COLOURBOX36578325.jpg', '87864244-hipster-men-head-face-vector-illustration-front-side.jpg', '87909357_10.jpg', '9c30114e2825bbc8e1af45c20b3f6548.jpg', 'ADGmqu-Ule3gtl_SzH6OoUzh-p9IXBCafLtfTewcmHqws64-c-mo.jpg', 'authentic-troll-face-men-round-neck-t-shirt-white-front.jpg', 'b4.jpg', 'b90b8ddd862735974d427578682fa7e0.jpg', 'bcfe89b7a78b00dfaf19e740856c255b.jpg', 'boy-face-blur-indian.jpg', 'channing-tatum-face-front-view-green-eyes.jpg', 'chris-pine-face-front-view-hairstyle-actor.jpg', 'ChrisHemsworth2010GQMenYearPartyLi4Tg1jPV6vl.jpg', 'cVSQ5Eb.jpg', 'depositphotos_174617710-stock-photo-portrait-man-background-face-white.jpg', 'depositphotos_174617718-stock-photo-portrait-man-background-face-white.jpg', 'depositphotos_174617730-stock-photo-portrait-man-background-face-white.jpg', 'depositphotos_174617736-stock-photo-portrait-man-background-face-white.jpg', 'drawing-illustration-beautiful-male-front-260nw-1547967296.jpg', 'e84e1d0e1d5917040ecab8a7e135d839.jpg', 'eminem-face-front-view-black-and-white.jpg', 'face-man-male-elderly.jpg', 'face-mask-selfie-3.jpg', 'facial-close-attractive-man-face-260nw-166987145.jpg', 'fashion-man-face-human.jpg', 'foto-sam-after-front-face.jpg', 'foto-sam-b4-front-face.jpg', 'FRONT-10-555x677.jpg', 'front-640x431.jpg', 'front-face-the-wise-men-cartoon-vector-12692702.jpg', 'front-face-the-wise-men-cartoon-vector-illustration-HHY740.jpg', 'Front-puff-223x300.jpg', 'front-view-210383_1280.jpg', 'front-view-face-close-man-men-indian-asian-person-gentleman-thumbnail.jpg', 'Fruit_Mask_white_product_man_front-300x300.png', 'got7-jackson-men-s-uno-orange-goldfish-in-clear-glass-container-in-front-of-man-s-face.jpg', 'hairframe.jpg', 'hipster-men-head-face-vector-illustration-front-side-M0DR4G.jpg', 'histyle_01_lg.jpg', 'hqdefault.jpg', 'human-head-people-front-view-avatar-profile-men-faces-set-collection-HNXPGC.jpg', 'image.jpeg', 'image.png', 'image0.jpeg', 'image0.png', 'image1.jpeg', 'image1.png', 'image10.jpeg', 'image10.png', 'image11.jpeg', 'image11.png', 'image12.jpeg', 'image12.png', 'image13.jpeg', 'image14.jpeg', 'image15.jpeg', 'image16.jpeg', 'image17.jpeg', 'image18.jpeg', 'image19.jpeg', 'image2.jpeg', 'image2.png', 'image20.jpeg', 'image21.jpeg', 'image22.jpeg', 'image23.jpeg', 'image3.jpeg', 'image3.png', 'image4.jpeg', 'image4.png', 'image5.jpeg', 'image5.png', 'image6.jpeg', 'image6.png', 'image7.jpeg', 'image7.png', 'image8.jpeg', 'image8.png', 'image9.jpeg', 'image9.png', 'images.jpg', 'images0.jpg', 'images1.jpg', 'images10.jpg', 'images11.jpg', 'images12.jpg', 'images13.jpg', 'images14.jpg', 'images15.jpg', 'images16.jpg', 'images17.jpg', 'images18.jpg', 'images19.jpg', 'images2.jpg', 'images20.jpg', 'images21.jpg', 'images22.jpg', 'images23.jpg', 'images24.jpg', 'images25.jpg', 'images26.jpg', 'images27.jpg', 'images28.jpg', 'images29.jpg', 'images3.jpg', 'images30.jpg', 'images31.jpg', 'images32.jpg', 'images33.jpg', 'images34.jpg', 'images35.jpg', 'images36.jpg', 'images37.jpg', 'images38.jpg', 'images39.jpg', 'images4.jpg', 'images40.jpg', 'images41.jpg', 'images5.jpg', 'images6.jpg', 'images7.jpg', 'images8.jpg', 'images9.jpg', 'IMG_0222klein.jpg', 'Leonardo-DiCaprio.jpg', 'male-asian-face.jpg', 'man-beard-portrait-closeup-one-handsome-sensual-grey-haired-unshaven-tanned-long-moustache-model-looking-forward-61868954.jpg', 'man-face-png-people-without-face-png-252_293.png', 'man-men-male-human-face-260nw-73930054.jpg', 'man-short-hair-and-beard.jpg', 'man-wearing-eyeglases.jpg', 'man-with-closed-eye_1889838.jpg', 'McKillop-Face-Mask-Polypropylene-2-Cream-FMPP-CM2-F__95569.1589324815.jpg', 'McKillop-Face-Mask-Polypropylene-CBPP-CM2-Cream-F__04610.1587362198.jpg', 'Men-Hairstyles-for-round-face_06.jpg', 'men-latin-american-hispanic-ethnicity-260nw-282626387.jpg', 'men-person-emotion-face-portrait-vector-retro-vintage-front-vie-view-illustration-wooden-frame-87455521.jpg', 'mens-hairstyles-for-round-faces-37.jpg', 'mens-hairstyles-for-round-faces.jpg', 'mens-skincare-facial-for-men.jpg', 'organic-cotton-face-mask-men-front-600x800.jpg', 'panda-face-men-plus-size-t-shirt-white-front.jpg', 'panda-face-men-raglan-t-shirt-black-white-front.jpg', 'perms-for-guys-6.jpg', 'photo_camera_grey600_24dp.png', 'portrait-man-front-profile-158086585.jpg', 'pri_676498171.jpg', 'purepng.com-man-facefaceshumansfrontalhuman-identityman-14215268858281fpvd.png', 'refa_howto_exeformen_image2-2_0.jpg', 'round-face-hairstyles-men-16-300x300.jpg', 'round-faced-shape-men.jpg', 'screen-shot-2017-11-09-at-11.04.07-am.png', 'Short-Hairstyles-for-Men-with-Receding-Hairlines.jpg', 'studio-shot-young-man-looking-260nw-372072697.jpg', 'Textured-Crop-Natural-curls.jpg', 'various-men-character-avatars-front-view_23-2148452763.jpg', 'vaseline_after.jpg', 'Xiaomi-MSN-Multipurpose-Hidden-Front-Container-Electric-Shaver-Beard-Cutter-Body-Trimmer-Washable-Cordless-For-Men.jpg_q50.jpg', 'young-man-touching-face-in-front-of-mirror.jpg']\n"
     ]
    },
    {
     "name": "stdout",
     "output_type": "stream",
     "text": [
      "['06bdf850e89636c5b6f4ff9b3080e065.jpg', '10-The-Side-Part.jpg', '113658814-side-view-of-young-handsome-man-face.jpg', '12-Side-Part.jpg', '1318526.jpg', '140a8500c24904f9f7849a007e93179e.jpg', '16-512.png', '1679311613_81f02ae64c_z.jpg', '40642p.jpg', '500_F_205084389_PpkX7jNfGs9UrurawR0fzsLHRMAJp3B5.jpg', '500_F_55019875_c8YJ2R1iv4D3ZYAOJoQ2GaZuGhfk2QVV.jpg', '71810ac7ea2bc4466dfc4b8c4326d4de.png', '71TvzmNG4cL._SL1500_.jpg', '800px_COLOURBOX29204448.jpg', '85787030-south-asian-indian-man-doing-exercise-closing-eyes-turn-to-left-side.jpg', '87794471-hipster-men-head-face-vector-illustration-profile-side.jpg', '90dfa5ac0007b82914cf8cec5af68e00.jpg', 'ADGmqu-Ule3gtl_SzH6OoUzh-p9IXBCafLtfTewcmHqws64-c-mo.jpg', 'asian-man-side-face-portrait-73250347.jpg', 'b753c724e4d1a8392eefaf84ba9d44e3.jpg', 'cb8366f54240e4a4782d06afe6774ee2.jpg', 'closeup-portrait-attractive-young-man-260nw-381073561.jpg', 'color-silhouette-image-cartoon-side-face-man-with-vector-14667859.jpg', 'Daniel-Craig-Side-View-Face-Closeup.jpg', 'fe477c3f99048db47086157b77c9ec34.jpg', 'hairstyles-for-long-face-men-1.jpg', 'Handsome-Cool-Men-Show-Fantastic-Colorful-African-Map-Tattoo-On-Side-Face-600x800.jpg', 'How-To-Style-A-Comb-Over.jpg', 'image.jpeg', 'image.png', 'image0.jpeg', 'image0.png', 'image1.jpeg', 'image1.png', 'image10.jpeg', 'image10.png', 'image11.jpeg', 'image11.png', 'image12.jpeg', 'image12.png', 'image13.jpeg', 'image13.png', 'image14.jpeg', 'image15.jpeg', 'image16.jpeg', 'image17.jpeg', 'image18.jpeg', 'image19.jpeg', 'image2.jpeg', 'image2.png', 'image20.jpeg', 'image21.jpeg', 'image22.jpeg', 'image23.jpeg', 'image24.jpeg', 'image25.jpeg', 'image3.jpeg', 'image3.png', 'image4.jpeg', 'image4.png', 'image5.jpeg', 'image5.png', 'image6.jpeg', 'image6.png', 'image7.jpeg', 'image7.png', 'image8.jpeg', 'image8.png', 'image9.jpeg', 'image9.png', 'images.jpg', 'images0.jpg', 'images1.jpg', 'images2.jpg', 'images3.jpg', 'images4.jpg', 'images5.jpg', 'images6.jpg', 'images7.jpg', 'images8.jpg', 'images9.jpg', 'man-looking-sideview-png-clip-art.png', 'man-s-head-profile-men-face-side-view-face-profile-bearded-man-vector-illustration-78827196.jpg', 'man-side-profile-profile-face.jpg', 'maxresdefault.jpg', 'profile-closeup-italian-handsome-man-260nw-110449097.jpg', 'side-face-of-an-asian-man-smiling-and-looking-towards-a-copy-space-with-white-background-2AHXCJ6.jpg', 'Side-Swept-Messy-Hairstyle.jpg', 'side-view-four-kind-races-men_6431-815.jpg', 'side-view-handsome-man-facial-260nw-199945952.jpg', 'side-view-handsome-young-asian-man-face-side-view-handsome-young-men-face-103372242.jpg', 'side-view-man-keeping-straight-face_23-2148364725.jpg', 'side-view-man-with-painted-face_23-2148364857.jpg', 'side-view-portrait-young-man-260nw-287947136.jpg', 'side-view-young-business-man-woman-men-closeup-portrait-38850603.jpg', 'silhouette-of-a-young-man-R34RRT.jpg', 'Wavy-Side-Swept-Hairstyle-for-Big-Faces-e1537159684325.jpg']\n"
     ]
    }
   ],
   "source": [
    "for x in dircs:\n",
    "    mypath = rpath+\"\\\\\"+x\n",
    "    onlyfiles = [f for f in listdir(mypath) if isfile(join(mypath, f))]\n",
    "    \n",
    "    print(onlyfiles)\n",
    "    #temp[x] = onlyfiles\n",
    "    for y in onlyfiles:\n",
    "        imagePath = mypath+\"\\\\\"+y\n",
    "        frame = cv2.imread(imagePath, cv2.IMREAD_COLOR)\n",
    "        results = tfnet.return_predict(frame)\n",
    "        #if len(results) == 0:\n",
    "         #   rects = usingDlib(frame)\n",
    "        for result in results:        \n",
    "            label = result[\"label\"]\n",
    "            if label.lower()=='face':\n",
    "                tl = (result['topleft']['x'], result['topleft']['y'])\n",
    "                br = (result['bottomright']['x'], result['bottomright']['y'])\n",
    "                face = frame[tl[1]:br[1], tl[0]:br[0]]\n",
    "                cv2.imwrite(wpath+\"\\\\\"+str(fileNo)+\".jpg\",face)\n",
    "                fileNo+=1"
   ]
  },
  {
   "cell_type": "code",
   "execution_count": 20,
   "metadata": {},
   "outputs": [
    {
     "data": {
      "text/plain": [
       "591"
      ]
     },
     "execution_count": 20,
     "metadata": {},
     "output_type": "execute_result"
    }
   ],
   "source": [
    "fileNo"
   ]
  }
 ],
 "metadata": {
  "kernelspec": {
   "display_name": "Python 3",
   "language": "python",
   "name": "python3"
  },
  "language_info": {
   "codemirror_mode": {
    "name": "ipython",
    "version": 3
   },
   "file_extension": ".py",
   "mimetype": "text/x-python",
   "name": "python",
   "nbconvert_exporter": "python",
   "pygments_lexer": "ipython3",
   "version": "3.6.4"
  }
 },
 "nbformat": 4,
 "nbformat_minor": 2
}
